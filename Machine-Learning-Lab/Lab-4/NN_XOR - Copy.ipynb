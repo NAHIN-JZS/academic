{
 "cells": [
  {
   "cell_type": "code",
   "execution_count": 35,
   "metadata": {
    "id": "kM-_WtYgGlOM"
   },
   "outputs": [],
   "source": [
    "class MLP:\n",
    "    \"\"\"\n",
    "    Create a multi-layer perceptron.\n",
    "\n",
    "    train_data: A 4x2 matrix with the input data.\n",
    "\n",
    "    target: A 4x1 matrix with expected outputs\n",
    "\n",
    "    lr: the learning rate. Defaults to 0.1\n",
    "\n",
    "    num_epochs: the number of times the training data goes through the model\n",
    "        while training\n",
    "\n",
    "    num_input: the number of nodes in the input layer of the MLP.\n",
    "        Should be equal to the second dimension of train_data.\n",
    "    \n",
    "    num_hidden: the number of nodes in the hidden layer of the MLP.\n",
    "\n",
    "    num_output: the number of nodes in the output layer of the MLP.\n",
    "        Should be equal to the second dimension of target.\n",
    "    \"\"\"\n",
    "    def __init__(self, train_data, target, lr=0.1, num_epochs=100, num_input=2, num_hidden=2, num_output=1):\n",
    "        self.train_data = train_data\n",
    "        self.target = target\n",
    "        self.lr = lr\n",
    "        self.num_epochs = num_epochs\n",
    "\n",
    "        # initialize both sets of weights and biases randomly\n",
    "            # - weights_01: weights between input and hidden layer\n",
    "            # - b01: biases for the  hidden layer\n",
    "            # - weights_12: weights between hidden and output layer\n",
    "            # - b12: bias for the output layer\n",
    "        #self.weights_01 = np.random.uniform(size=(num_input, num_hidden)) #(2,2)\n",
    "        #self.b01 = np.random.uniform(size=(1,num_hidden)) #(1,2)\n",
    "        \n",
    "        self.weights_12 = np.random.uniform(size=(num_hidden, num_output)) #(2,1)\n",
    "        self.b12 = np.random.uniform(size=(1,num_output)) #(1,1)\n",
    "        \n",
    "#         self.weights_01 = np.zeros((num_input, num_hidden)) #(2,2)\n",
    "#         self.b01 = np.zeros((1,num_hidden)) #(1,2)\n",
    "        \n",
    "#         self.weights_12 = np.zeros((num_hidden, num_output)) #(2,1)\n",
    "#         self.b12 = np.zeros((1,num_output)) #(1,1)\n",
    "\n",
    "        self.losses = []\n",
    "\n",
    "    def update_weights(self):\n",
    "        \n",
    "        # Calculate the squared error\n",
    "        loss = 0.5 * (self.target - self.output_final) ** 2\n",
    "        self.losses.append(np.sum(loss))\n",
    "\n",
    "        error_term = (self.output_final - self.target) #derivative of error with respect to the last layer\n",
    "\n",
    "        # the gradient for the output layer weights\n",
    "        grad12 = error_term * self._delsigmoid(self.output_final)\n",
    "\n",
    "        # the gradient for the hidden layer weights\n",
    "        #grad01 = np.dot(grad12, self.weights_12.T) * self._delsigmoid(self.hidden_out)\n",
    "\n",
    "        # updating the weights by the learning rate times their gradient\n",
    "        self.weights_12 -= self.lr * np.dot(self.train_data.T, grad12)\n",
    "        #self.weights_01 -= self.lr * np.dot(self.train_data.T, grad01)\n",
    "\n",
    "        # update the biases the same way\n",
    "        self.b12 -= self.lr * np.sum(grad12, axis=0)\n",
    "        #self.b01 -= self.lr * np.sum(grad01, axis=0)\n",
    "\n",
    "    def _sigmoid(self, x):\n",
    "        \"\"\"\n",
    "        The sigmoid activation function.\n",
    "        \"\"\"\n",
    "        #return 1 / (1 + np.exp(-x))\n",
    "        return np.tanh(x)\n",
    "        \n",
    "    def _delsigmoid(self, x):\n",
    "        \"\"\"\n",
    "        The first derivative of the sigmoid function wrt x\n",
    "        \"\"\"\n",
    "        #return x * (1 - x)\n",
    "        return (1 - x**2)\n",
    "\n",
    "    def forward(self, batch):\n",
    "        \"\"\"\n",
    "        A single forward pass through the network.\n",
    "        Implementation of wX + b\n",
    "        \"\"\"\n",
    "\n",
    "        #self.hidden_ = np.dot(batch, self.weights_01) + self.b01  #batch(4,2), weights01(2,2), b01(1,2)\n",
    "        #self.hidden_out = self._sigmoid(self.hidden_) #hidden(4,2)\n",
    "\n",
    "        self.output_ = np.dot(batch, self.weights_12) + self.b12 #hidden_out(4,2), weights12(2,1), b12(1,1)\n",
    "        self.output_final = self._sigmoid(self.output_) #out(4,1) for 4 (x,y) pair we have one xor output (z) \n",
    "\n",
    "        return self.output_final\n",
    "\n",
    "    def classify(self, datapoint):\n",
    "        \"\"\"\n",
    "        Return the class to which a datapoint belongs based on\n",
    "        the perceptron's output for that point.\n",
    "        \"\"\"\n",
    "        #datapoint = np.transpose(datapoint)\n",
    "        if self.forward(datapoint) >= 0.5:\n",
    "            return 1\n",
    "\n",
    "        return 0\n",
    "\n",
    "    def plot(self, h=0.01):\n",
    "        \"\"\"\n",
    "        Generate plot of input data and decision boundary.\n",
    "        \"\"\"\n",
    "        # setting plot properties like size, theme and axis limits\n",
    "        sns.set_style('darkgrid')\n",
    "        plt.figure(figsize=(10, 10))\n",
    "\n",
    "        plt.axis('scaled')\n",
    "        plt.xlim(-0.1, 1.1)\n",
    "        plt.ylim(-0.1, 1.1)\n",
    "\n",
    "        colors = {\n",
    "            0: \"ro\",\n",
    "            1: \"go\"\n",
    "        }\n",
    "\n",
    "        # plotting the four datapoints\n",
    "        for i in range(len(self.train_data)):\n",
    "            plt.plot([self.train_data[i][0]],\n",
    "                     [self.train_data[i][1]],\n",
    "                     colors[self.target[i][0]],\n",
    "                     markersize=20)\n",
    "\n",
    "        x_range = np.arange(-0.1, 1.1, h)\n",
    "        y_range = np.arange(-0.1, 1.1, h)\n",
    "\n",
    "        # creating a mesh to plot decision boundary\n",
    "        xx, yy = np.meshgrid(x_range, y_range, indexing='ij')\n",
    "        Z = np.array([[self.classify([x, y]) for x in x_range] for y in y_range])\n",
    "\n",
    "        # using the contourf function to create the plot\n",
    "        plt.contourf(xx, yy, Z, colors=['red', 'green', 'green', 'blue'], alpha=0.4)\n",
    "\n",
    "    def train(self):\n",
    "        \"\"\"\n",
    "        Train an MLP. Runs through the data num_epochs number of times.\n",
    "        A forward pass is done first, followed by a backward pass (backpropagation)\n",
    "        where the networks parameter's are updated.\n",
    "        \"\"\"\n",
    "        for epoch in range(self.num_epochs):\n",
    "\n",
    "            self.forward(self.train_data)\n",
    "            self.update_weights()\n",
    "            \n",
    "            if epoch % 500 == 0:\n",
    "                print(\"Loss: \", self.losses[epoch]) "
   ]
  },
  {
   "cell_type": "code",
   "execution_count": 36,
   "metadata": {
    "id": "PuDP-7DWHKPA"
   },
   "outputs": [],
   "source": [
    "from itertools import cycle\n",
    "import matplotlib.pyplot as plt\n",
    "import seaborn as sns\n",
    "import numpy as np"
   ]
  },
  {
   "cell_type": "code",
   "execution_count": 37,
   "metadata": {
    "id": "2htnzX7VHXoA"
   },
   "outputs": [],
   "source": [
    "sns.set_style('darkgrid')\n",
    "sns.set_context('poster')\n",
    "plt.rcParams[\"figure.figsize\"] = [20, 10]"
   ]
  },
  {
   "cell_type": "code",
   "execution_count": 38,
   "metadata": {
    "id": "fsjeEhRdGxRw"
   },
   "outputs": [],
   "source": [
    "train_data = np.array(\n",
    "    [\n",
    "        [0, 0],\n",
    "        [0, 1],\n",
    "        [1, 0],\n",
    "        [1, 1]])\n",
    "\n",
    "target_xor = np.array(\n",
    "    [\n",
    "        [0],\n",
    "        [1],\n",
    "        [1],\n",
    "        [0]])\n",
    "\n",
    "target_nand = np.array(\n",
    "    [\n",
    "        [1],\n",
    "        [1],\n",
    "        [1],\n",
    "        [0]])\n",
    "\n",
    "target_or = np.array(\n",
    "    [\n",
    "        [0],\n",
    "        [1],\n",
    "        [1],\n",
    "        [1]])\n",
    "\n",
    "target_and = np.array(\n",
    "    [\n",
    "        [0],\n",
    "        [0],\n",
    "        [0],\n",
    "        [1]])"
   ]
  },
  {
   "cell_type": "code",
   "execution_count": 43,
   "metadata": {
    "colab": {
     "base_uri": "https://localhost:8080/"
    },
    "id": "QqMUF_60GsZp",
    "outputId": "2378099d-6034-4e32-f07f-4191de1ba842"
   },
   "outputs": [
    {
     "name": "stdout",
     "output_type": "stream",
     "text": [
      "Loss:  0.20792867530740397\n",
      "Loss:  0.0014230613715354471\n",
      "Loss:  0.0006813720888184208\n",
      "Loss:  0.0004458502916388251\n",
      "Loss:  0.00033079761073566584\n",
      "Loss:  0.00026274483333571963\n",
      "Loss:  0.00021782154943079485\n",
      "Loss:  0.00018596717516283337\n",
      "Loss:  0.0001622117295185094\n",
      "Loss:  0.00014381950336207427\n",
      "Loss:  0.0001291611179673819\n",
      "Loss:  0.0001172059471129715\n",
      "Loss:  0.0001072703852729649\n",
      "Loss:  9.888321471506835e-05\n",
      "Loss:  9.170911363281042e-05\n",
      "Loss:  8.550298821763985e-05\n"
     ]
    }
   ],
   "source": [
    "mlp = MLP(train_data, target_or, 0.2, 8000)\n",
    "mlp.train()"
   ]
  },
  {
   "cell_type": "code",
   "execution_count": 44,
   "metadata": {
    "colab": {
     "base_uri": "https://localhost:8080/"
    },
    "id": "bfNvbWcCVmoH",
    "outputId": "6ca9d04e-943e-47a9-dd55-91684df37085"
   },
   "outputs": [
    {
     "name": "stdout",
     "output_type": "stream",
     "text": [
      "[[3.18933094e-04]\n",
      " [9.91055388e-01]\n",
      " [9.91051593e-01]\n",
      " [9.99959595e-01]]\n"
     ]
    },
    {
     "data": {
      "text/plain": [
       "1"
      ]
     },
     "execution_count": 44,
     "metadata": {},
     "output_type": "execute_result"
    }
   ],
   "source": [
    "#print(np.shape(mlp.b02))\n",
    "print(mlp.output_final)\n",
    "mlp.classify([1,1])"
   ]
  },
  {
   "cell_type": "code",
   "execution_count": 45,
   "metadata": {
    "colab": {
     "base_uri": "https://localhost:8080/",
     "height": 610
    },
    "id": "Lqd_i9JmH6e4",
    "outputId": "9998c7b9-d819-4018-8019-045a584e381b"
   },
   "outputs": [
    {
     "data": {
      "image/png": "[encoded data removed]",
      "text/plain": [
       "<Figure size 1440x720 with 1 Axes>"
      ]
     },
     "metadata": {},
     "output_type": "display_data"
    }
   ],
   "source": [
    "_ = plt.plot(mlp.losses)"
   ]
  },
  {
   "cell_type": "code",
   "execution_count": 42,
   "metadata": {
    "colab": {
     "base_uri": "https://localhost:8080/",
     "height": 610
    },
    "id": "QFg4j0FuH9Do",
    "outputId": "f0f513bb-17b1-475a-e9a7-acdb2ec4e579"
   },
   "outputs": [
    {
     "data": {
      "image/png": "[encoded data removed]",
      "text/plain": [
       "<Figure size 720x720 with 1 Axes>"
      ]
     },
     "metadata": {},
     "output_type": "display_data"
    }
   ],
   "source": [
    "mlp.plot()"
   ]
  },
  {
   "cell_type": "code",
   "execution_count": null,
   "metadata": {},
   "outputs": [],
   "source": []
  }
 ],
 "metadata": {
  "colab": {
   "collapsed_sections": [],
   "name": "NN_XOR.ipynb",
   "provenance": []
  },
  "kernelspec": {
   "display_name": "Python 3 (ipykernel)",
   "language": "python",
   "name": "python3"
  },
  "language_info": {
   "codemirror_mode": {
    "name": "ipython",
    "version": 3
   },
   "file_extension": ".py",
   "mimetype": "text/x-python",
   "name": "python",
   "nbconvert_exporter": "python",
   "pygments_lexer": "ipython3",
   "version": "3.9.7"
  }
 },
 "nbformat": 4,
 "nbformat_minor": 1
}
